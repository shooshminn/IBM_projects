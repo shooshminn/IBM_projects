{
 "cells": [
  {
   "cell_type": "markdown",
   "id": "2164786d",
   "metadata": {},
   "source": [
    "# Statistics for Data Science with Python"
   ]
  },
  {
   "cell_type": "markdown",
   "id": "e64c6d7e",
   "metadata": {},
   "source": [
    "<p> This project uses the housing agency in Boston MA, a dataset on housing prices derived from the U.S. Census Service to present insights to higher management. \n",
    "A csv file is provided : 'https://cf-courses-data.s3.us.cloud-object-storage.appdomain.cloud/IBMDeveloperSkillsNetwork-ST0151EN-SkillsNetwork/labs/boston_housing.csv'. \n",
    "Here are the dataset variables:\n",
    "    <li>CRIM - per capita crime rate by town</li> \n",
    "    <li>ZN - proportion of residential land zoned for lots over 25,000 sq.ft.</li>\n",
    "    <li>INDUS - proportion of non-retail business acres per town.</li>\n",
    "    <li>CHAS - Charles River dummy variable (1 if tract bounds river; 0 otherwise)</li>\n",
    "    <li>NOX - nitric oxides concentration (parts per 10 million)</li>\n",
    "    <li>RM - average number of rooms per dwelling</li>\n",
    "    <li>AGE - proportion of owner-occupied units built prior to 1940</li>\n",
    "    <li>DIS - weighted distances to five Boston employment centres</li>\n",
    "    <li>RAD - index of accessibility to radial highways </li>\n",
    "    <li>TAX - full-value property tax rate per 10000 dollars </li>\n",
    "    <li>PTRATIO - pupil-teacher ratio by town</li>\n",
    "    <li>LSTAT - percent lower status of the population </li>\n",
    "    <li>MEDV - Median value of owner-occupied homes in 1000's dollars </li>\n",
    "\n",
    "\n",
    "<p>"
   ]
  },
  {
   "cell_type": "code",
   "execution_count": 4,
   "id": "3c2b7e74",
   "metadata": {},
   "outputs": [],
   "source": [
    "import pandas as pd\n",
    "import numpy as np\n",
    "import matplotlib.pyplot as pyplot\n",
    "import seaborn as sns\n",
    "import scipy.stats\n",
    "import statsmodels.api as sm"
   ]
  },
  {
   "cell_type": "code",
   "execution_count": 2,
   "id": "82e4c5ec",
   "metadata": {},
   "outputs": [],
   "source": [
    "boston_url = 'https://cf-courses-data.s3.us.cloud-object-storage.appdomain.cloud/IBMDeveloperSkillsNetwork-ST0151EN-SkillsNetwork/labs/boston_housing.csv'\n",
    "boston_df=pd.read_csv(boston_url)"
   ]
  },
  {
   "cell_type": "markdown",
   "id": "658672a3",
   "metadata": {},
   "source": [
    "## Task 1\n",
    "###  Getting to know the dataset "
   ]
  },
  {
   "cell_type": "code",
   "execution_count": 5,
   "id": "d3ac2a09",
   "metadata": {},
   "outputs": [
    {
     "data": {
      "text/html": [
       "<div>\n",
       "<style scoped>\n",
       "    .dataframe tbody tr th:only-of-type {\n",
       "        vertical-align: middle;\n",
       "    }\n",
       "\n",
       "    .dataframe tbody tr th {\n",
       "        vertical-align: top;\n",
       "    }\n",
       "\n",
       "    .dataframe thead th {\n",
       "        text-align: right;\n",
       "    }\n",
       "</style>\n",
       "<table border=\"1\" class=\"dataframe\">\n",
       "  <thead>\n",
       "    <tr style=\"text-align: right;\">\n",
       "      <th></th>\n",
       "      <th>Unnamed: 0</th>\n",
       "      <th>CRIM</th>\n",
       "      <th>ZN</th>\n",
       "      <th>INDUS</th>\n",
       "      <th>CHAS</th>\n",
       "      <th>NOX</th>\n",
       "      <th>RM</th>\n",
       "      <th>AGE</th>\n",
       "      <th>DIS</th>\n",
       "      <th>RAD</th>\n",
       "      <th>TAX</th>\n",
       "      <th>PTRATIO</th>\n",
       "      <th>LSTAT</th>\n",
       "      <th>MEDV</th>\n",
       "    </tr>\n",
       "  </thead>\n",
       "  <tbody>\n",
       "    <tr>\n",
       "      <th>0</th>\n",
       "      <td>0</td>\n",
       "      <td>0.00632</td>\n",
       "      <td>18.0</td>\n",
       "      <td>2.31</td>\n",
       "      <td>0.0</td>\n",
       "      <td>0.538</td>\n",
       "      <td>6.575</td>\n",
       "      <td>65.2</td>\n",
       "      <td>4.0900</td>\n",
       "      <td>1.0</td>\n",
       "      <td>296.0</td>\n",
       "      <td>15.3</td>\n",
       "      <td>4.98</td>\n",
       "      <td>24.0</td>\n",
       "    </tr>\n",
       "    <tr>\n",
       "      <th>1</th>\n",
       "      <td>1</td>\n",
       "      <td>0.02731</td>\n",
       "      <td>0.0</td>\n",
       "      <td>7.07</td>\n",
       "      <td>0.0</td>\n",
       "      <td>0.469</td>\n",
       "      <td>6.421</td>\n",
       "      <td>78.9</td>\n",
       "      <td>4.9671</td>\n",
       "      <td>2.0</td>\n",
       "      <td>242.0</td>\n",
       "      <td>17.8</td>\n",
       "      <td>9.14</td>\n",
       "      <td>21.6</td>\n",
       "    </tr>\n",
       "    <tr>\n",
       "      <th>2</th>\n",
       "      <td>2</td>\n",
       "      <td>0.02729</td>\n",
       "      <td>0.0</td>\n",
       "      <td>7.07</td>\n",
       "      <td>0.0</td>\n",
       "      <td>0.469</td>\n",
       "      <td>7.185</td>\n",
       "      <td>61.1</td>\n",
       "      <td>4.9671</td>\n",
       "      <td>2.0</td>\n",
       "      <td>242.0</td>\n",
       "      <td>17.8</td>\n",
       "      <td>4.03</td>\n",
       "      <td>34.7</td>\n",
       "    </tr>\n",
       "    <tr>\n",
       "      <th>3</th>\n",
       "      <td>3</td>\n",
       "      <td>0.03237</td>\n",
       "      <td>0.0</td>\n",
       "      <td>2.18</td>\n",
       "      <td>0.0</td>\n",
       "      <td>0.458</td>\n",
       "      <td>6.998</td>\n",
       "      <td>45.8</td>\n",
       "      <td>6.0622</td>\n",
       "      <td>3.0</td>\n",
       "      <td>222.0</td>\n",
       "      <td>18.7</td>\n",
       "      <td>2.94</td>\n",
       "      <td>33.4</td>\n",
       "    </tr>\n",
       "    <tr>\n",
       "      <th>4</th>\n",
       "      <td>4</td>\n",
       "      <td>0.06905</td>\n",
       "      <td>0.0</td>\n",
       "      <td>2.18</td>\n",
       "      <td>0.0</td>\n",
       "      <td>0.458</td>\n",
       "      <td>7.147</td>\n",
       "      <td>54.2</td>\n",
       "      <td>6.0622</td>\n",
       "      <td>3.0</td>\n",
       "      <td>222.0</td>\n",
       "      <td>18.7</td>\n",
       "      <td>5.33</td>\n",
       "      <td>36.2</td>\n",
       "    </tr>\n",
       "  </tbody>\n",
       "</table>\n",
       "</div>"
      ],
      "text/plain": [
       "   Unnamed: 0     CRIM    ZN  INDUS  CHAS    NOX     RM   AGE     DIS  RAD  \\\n",
       "0           0  0.00632  18.0   2.31   0.0  0.538  6.575  65.2  4.0900  1.0   \n",
       "1           1  0.02731   0.0   7.07   0.0  0.469  6.421  78.9  4.9671  2.0   \n",
       "2           2  0.02729   0.0   7.07   0.0  0.469  7.185  61.1  4.9671  2.0   \n",
       "3           3  0.03237   0.0   2.18   0.0  0.458  6.998  45.8  6.0622  3.0   \n",
       "4           4  0.06905   0.0   2.18   0.0  0.458  7.147  54.2  6.0622  3.0   \n",
       "\n",
       "     TAX  PTRATIO  LSTAT  MEDV  \n",
       "0  296.0     15.3   4.98  24.0  \n",
       "1  242.0     17.8   9.14  21.6  \n",
       "2  242.0     17.8   4.03  34.7  \n",
       "3  222.0     18.7   2.94  33.4  \n",
       "4  222.0     18.7   5.33  36.2  "
      ]
     },
     "execution_count": 5,
     "metadata": {},
     "output_type": "execute_result"
    }
   ],
   "source": [
    "boston_df.head()"
   ]
  },
  {
   "cell_type": "code",
   "execution_count": 6,
   "id": "ce61b66e",
   "metadata": {},
   "outputs": [
    {
     "name": "stdout",
     "output_type": "stream",
     "text": [
      "<class 'pandas.core.frame.DataFrame'>\n",
      "RangeIndex: 506 entries, 0 to 505\n",
      "Data columns (total 14 columns):\n",
      " #   Column      Non-Null Count  Dtype  \n",
      "---  ------      --------------  -----  \n",
      " 0   Unnamed: 0  506 non-null    int64  \n",
      " 1   CRIM        506 non-null    float64\n",
      " 2   ZN          506 non-null    float64\n",
      " 3   INDUS       506 non-null    float64\n",
      " 4   CHAS        506 non-null    float64\n",
      " 5   NOX         506 non-null    float64\n",
      " 6   RM          506 non-null    float64\n",
      " 7   AGE         506 non-null    float64\n",
      " 8   DIS         506 non-null    float64\n",
      " 9   RAD         506 non-null    float64\n",
      " 10  TAX         506 non-null    float64\n",
      " 11  PTRATIO     506 non-null    float64\n",
      " 12  LSTAT       506 non-null    float64\n",
      " 13  MEDV        506 non-null    float64\n",
      "dtypes: float64(13), int64(1)\n",
      "memory usage: 55.5 KB\n"
     ]
    }
   ],
   "source": [
    "boston_df.info()"
   ]
  },
  {
   "cell_type": "code",
   "execution_count": 7,
   "id": "217a8fcc",
   "metadata": {},
   "outputs": [
    {
     "data": {
      "text/plain": [
       "<bound method NDFrame.describe of      Unnamed: 0     CRIM    ZN  INDUS  CHAS    NOX     RM   AGE     DIS  RAD  \\\n",
       "0             0  0.00632  18.0   2.31   0.0  0.538  6.575  65.2  4.0900  1.0   \n",
       "1             1  0.02731   0.0   7.07   0.0  0.469  6.421  78.9  4.9671  2.0   \n",
       "2             2  0.02729   0.0   7.07   0.0  0.469  7.185  61.1  4.9671  2.0   \n",
       "3             3  0.03237   0.0   2.18   0.0  0.458  6.998  45.8  6.0622  3.0   \n",
       "4             4  0.06905   0.0   2.18   0.0  0.458  7.147  54.2  6.0622  3.0   \n",
       "..          ...      ...   ...    ...   ...    ...    ...   ...     ...  ...   \n",
       "501         501  0.06263   0.0  11.93   0.0  0.573  6.593  69.1  2.4786  1.0   \n",
       "502         502  0.04527   0.0  11.93   0.0  0.573  6.120  76.7  2.2875  1.0   \n",
       "503         503  0.06076   0.0  11.93   0.0  0.573  6.976  91.0  2.1675  1.0   \n",
       "504         504  0.10959   0.0  11.93   0.0  0.573  6.794  89.3  2.3889  1.0   \n",
       "505         505  0.04741   0.0  11.93   0.0  0.573  6.030  80.8  2.5050  1.0   \n",
       "\n",
       "       TAX  PTRATIO  LSTAT  MEDV  \n",
       "0    296.0     15.3   4.98  24.0  \n",
       "1    242.0     17.8   9.14  21.6  \n",
       "2    242.0     17.8   4.03  34.7  \n",
       "3    222.0     18.7   2.94  33.4  \n",
       "4    222.0     18.7   5.33  36.2  \n",
       "..     ...      ...    ...   ...  \n",
       "501  273.0     21.0   9.67  22.4  \n",
       "502  273.0     21.0   9.08  20.6  \n",
       "503  273.0     21.0   5.64  23.9  \n",
       "504  273.0     21.0   6.48  22.0  \n",
       "505  273.0     21.0   7.88  11.9  \n",
       "\n",
       "[506 rows x 14 columns]>"
      ]
     },
     "execution_count": 7,
     "metadata": {},
     "output_type": "execute_result"
    }
   ],
   "source": [
    "boston_df.describe"
   ]
  },
  {
   "cell_type": "markdown",
   "id": "f4f34157",
   "metadata": {},
   "source": [
    "## Task 2: Visualization\n",
    "### Creating a boxplot for the Median value of owner-occupied homes"
   ]
  },
  {
   "cell_type": "code",
   "execution_count": 16,
   "id": "2f32a035",
   "metadata": {},
   "outputs": [
    {
     "data": {
      "image/png": "[encoded data removed]",
      "text/plain": [
       "<Figure size 432x288 with 1 Axes>"
      ]
     },
     "metadata": {
      "needs_background": "light"
     },
     "output_type": "display_data"
    },
    {
     "name": "stdout",
     "output_type": "stream",
     "text": [
      "The median value of owner-occupied homes is 21.2\n"
     ]
    }
   ],
   "source": [
    "ax=sns.boxplot(x='MEDV',data=boston_df).set(title=\"The Median Value of owner-occupied homes\")\n",
    "pyplot.show()\n",
    "print(f\"The median value of owner-occupied homes is {boston_df['MEDV'].median()}\")"
   ]
  },
  {
   "cell_type": "markdown",
   "id": "63954182",
   "metadata": {},
   "source": [
    "<p> The boxplot above provides a summary of the median values of owner-occupied homes in the Boston Area. The median value was 21.2 with a an interquartile range (IQR) between 17 and 25 where 50% of the values are found. A min value was shown to be around 13 while a max value is shown to be around 36. There were numerous outliers above the max value. </p>"
   ]
  },
  {
   "cell_type": "markdown",
   "id": "5c0b3b8f",
   "metadata": {},
   "source": [
    "### Creating a barplot for the Charles River values"
   ]
  },
  {
   "cell_type": "code",
   "execution_count": 21,
   "id": "acf757f9",
   "metadata": {},
   "outputs": [
    {
     "data": {
      "image/png": "[encoded data removed]",
      "text/plain": [
       "<Figure size 360x360 with 1 Axes>"
      ]
     },
     "metadata": {
      "needs_background": "light"
     },
     "output_type": "display_data"
    },
    {
     "name": "stdout",
     "output_type": "stream",
     "text": [
      "471 houses do not bound the Charles river, while 35 do\n"
     ]
    }
   ],
   "source": [
    "ax=sns.catplot(x=\"CHAS\", kind='count', data=boston_df).set(title=\"Houses in relation to the Charles River\")\n",
    "pyplot.xlabel(\"0 ~ does not bound river   1 ~ bounds river\")\n",
    "pyplot.show()\n",
    "\n",
    "bounding = len(boston_df[boston_df['CHAS'] == 1.0])\n",
    "not_bounding = len(boston_df[boston_df['CHAS'] == 0.0])\n",
    "print(f\"{not_bounding} houses do not bound the Charles river, while {bounding} do\")"
   ]
  },
  {
   "cell_type": "markdown",
   "id": "6e65d7cf",
   "metadata": {},
   "source": [
    "### Creating a boxplot for the MEDV variable vs. the Age variable\n",
    "<p> Age is a continuous variable. To create a boxplot I categorized the age variable into 3 groups of 35 years and younger, between 35 and 70, and 70 years and older. </p> \n"
   ]
  },
  {
   "cell_type": "code",
   "execution_count": 29,
   "id": "3fba29b0",
   "metadata": {},
   "outputs": [
    {
     "data": {
      "image/png": "[encoded data removed]",
      "text/plain": [
       "<Figure size 432x288 with 1 Axes>"
      ]
     },
     "metadata": {
      "needs_background": "light"
     },
     "output_type": "display_data"
    },
    {
     "name": "stdout",
     "output_type": "stream",
     "text": [
      "Hosues built more recently tend to have a higher median value than houses that are older.\n"
     ]
    }
   ],
   "source": [
    "boston_df.loc[(boston_df['AGE'] <=35), 'age_group']= '35 and younger'\n",
    "boston_df.loc[(boston_df['AGE'] >35)&(boston_df['AGE'] < 70), 'age_group']= 'between 35 and 70'\n",
    "boston_df.loc[(boston_df['AGE'] >=70), 'age_group']='70 and older'\n",
    "\n",
    "ax=sns.boxplot(x='age_group', y=\"MEDV\", data=boston_df)\n",
    "pyplot.title(\"Boxplot of Median home value vs. Age of homes\")\n",
    "pyplot.show()\n",
    "print(\"Hosues built more recently tend to have a higher median value than houses that are older.\")"
   ]
  },
  {
   "cell_type": "markdown",
   "id": "c5146d91",
   "metadata": {},
   "source": [
    "### Creating a scatter plot to show the relationship between Nitric oxide concentrations and the proportion of non-retail business acres per town\n"
   ]
  },
  {
   "cell_type": "code",
   "execution_count": 31,
   "id": "f5608726",
   "metadata": {},
   "outputs": [
    {
     "data": {
      "image/png": "[encoded data removed]",
      "text/plain": [
       "<Figure size 432x288 with 1 Axes>"
      ]
     },
     "metadata": {
      "needs_background": "light"
     },
     "output_type": "display_data"
    },
    {
     "name": "stdout",
     "output_type": "stream",
     "text": [
      "There seems to be a positive correlation between NOX and INDUS\n"
     ]
    }
   ],
   "source": [
    "ax=sns.scatterplot(x='NOX', y='INDUS',data=boston_df).set(title=\"Nitric Oxide concentrations NOX vs non-retail business INDUS\")\n",
    "pyplot.show()\n",
    "print(\"There seems to be a positive correlation between NOX and INDUS\")"
   ]
  },
  {
   "cell_type": "markdown",
   "id": "e6b2b9db",
   "metadata": {},
   "source": [
    "### Creating a histogram for the pupil to teacher ratio variable"
   ]
  },
  {
   "cell_type": "code",
   "execution_count": 34,
   "id": "b8d9f9f3",
   "metadata": {},
   "outputs": [
    {
     "data": {
      "image/png": "[encoded data removed]",
      "text/plain": [
       "<Figure size 432x288 with 1 Axes>"
      ]
     },
     "metadata": {
      "needs_background": "light"
     },
     "output_type": "display_data"
    },
    {
     "name": "stdout",
     "output_type": "stream",
     "text": [
      "The pupil:teacher ratio of around 20 has the highest count based on the histogram\n"
     ]
    }
   ],
   "source": [
    "ax = sns.histplot(boston_df['PTRATIO']).set(title=\"Histogram of pupil:teacher ratio\")\n",
    "pyplot.show()\n",
    "print(\"The pupil:teacher ratio of around 20 has the highest count based on the histogram\")"
   ]
  },
  {
   "cell_type": "markdown",
   "id": "54f487a7",
   "metadata": {},
   "source": [
    "## Task 3: Statistical analysis"
   ]
  },
  {
   "cell_type": "markdown",
   "id": "b6163adb",
   "metadata": {},
   "source": [
    "### Is there a significant difference in median value of houses bounded by the Charles river or not?\n",
    "<p> The hypotheses are:\n",
    "    <li>H0: µ_1=µ_2 there's no difference in MEDV between houses bound by charles river and those that are not</li>\n",
    "    <li>Ha: µ_1≠µ_2 there is a difference in MEDV between houses bound by charles river and those that are not</li>\n",
    "To answer this question, I first tested the variances equality using Levene Test, then tested the differences in the mean between the two groups using an independent t-test. </p>"
   ]
  },
  {
   "cell_type": "code",
   "execution_count": 36,
   "id": "913442a3",
   "metadata": {},
   "outputs": [
    {
     "data": {
      "text/plain": [
       "LeveneResult(statistic=8.751904896045998, pvalue=0.003238119367639829)"
      ]
     },
     "execution_count": 36,
     "metadata": {},
     "output_type": "execute_result"
    }
   ],
   "source": [
    "# First, I tested the equality of variances using the Levene test\n",
    "scipy.stats.levene(boston_df[boston_df['CHAS'] == 1]['MEDV'],\n",
    "                   boston_df[boston_df['CHAS'] == 0]['MEDV'], center='mean')"
   ]
  },
  {
   "cell_type": "markdown",
   "id": "03ef6bfc",
   "metadata": {},
   "source": [
    "<p> Since p is less than 0.05, we assume the variances are not equal </p> "
   ]
  },
  {
   "cell_type": "code",
   "execution_count": 49,
   "id": "a4115772",
   "metadata": {},
   "outputs": [
    {
     "name": "stdout",
     "output_type": "stream",
     "text": [
      "There is sufficient evidence to reject the null hypthesis, as the p-value is 0.003567170098137517\n",
      "We can conclude that there is a significant difference in median value of houses bounded by the Charles river and those that are not.\n"
     ]
    }
   ],
   "source": [
    "boston_df = boston_df.astype({\"CHAS\": object})\n",
    "boston_df['CHAS'] = boston_df['CHAS'].replace([1],'Yes')\n",
    "boston_df['CHAS'] = boston_df['CHAS'].replace([0],'No')\n",
    "boston_df\n",
    "\n",
    "s, p_val =scipy.stats.ttest_ind(boston_df[boston_df['CHAS'] == 'Yes']['MEDV'], \n",
    "                   boston_df[boston_df['CHAS'] == 'No']['MEDV'], equal_var = False, nan_policy = \"omit\")\n",
    "print(f\"There is sufficient evidence to reject the null hypthesis, as the p-value is {p_val}\")\n",
    "print(\"We can conclude that there is a significant difference in median value of houses bounded by the Charles river and those that are not.\")"
   ]
  },
  {
   "cell_type": "markdown",
   "id": "7a2be581",
   "metadata": {},
   "source": [
    "### Is there a difference in Median values of houses (MEDV) for each proportion of owner occupied units built prior to 1940 (AGE)?\n",
    "<p> The age variable can be devided into 3 groups: 35 and younger, 35 to 70, and 70 and older. To compare the 3 groups, I performed an ANOVA test. \n",
    "    <li>H0: µ_1=µ_2=µ_3 there is no difference between the 3 age groups</li>\n",
    "    <li>Ha: at least 1 age group is different </li>\n",
    "</p>"
   ]
  },
  {
   "cell_type": "code",
   "execution_count": 50,
   "id": "dee3a128",
   "metadata": {},
   "outputs": [
    {
     "name": "stdout",
     "output_type": "stream",
     "text": [
      "F_statistic:36.40764999196599, P-value:1.7105011022702984e-15\n",
      "There is sufficient evidence to reject the null hypthesis, as the p-value is 1.7105011022702984e-15\n",
      "We can conclude that there at least one age group is significantly different than the others\n"
     ]
    }
   ],
   "source": [
    "thirtyfive_lower=boston_df[boston_df['age_group']=='35 and younger']['MEDV']\n",
    "thirtyfive_seventy=boston_df[boston_df['age_group']=='between 35 and 70']['MEDV']\n",
    "seventy_older=boston_df[boston_df['age_group']=='70 and older']['MEDV']\n",
    "\n",
    "f_statistic, p_value=scipy.stats.f_oneway(thirtyfive_lower, thirtyfive_seventy,seventy_older)\n",
    "print('F_statistic:{0}, P-value:{1}'.format(f_statistic,p_value))\n",
    "print(f\"There is sufficient evidence to reject the null hypthesis, as the p-value is {p_value}\")\n",
    "print(\"We can conclude that there at least one age group is significantly different than the others\")"
   ]
  },
  {
   "cell_type": "markdown",
   "id": "4b9acbfd",
   "metadata": {},
   "source": [
    "### Can we conclude that there is no relationship between Nitric oxide concentrations and proportion of non-retail business acres per town?\n",
    "<p>To answer this question, I performed a pearson correlation test with the following hypotheses:\n",
    "    <li>H0: there is no correlation between NOX and INDUS</li>\n",
    "    <li>Ha: there is a correlation between NOX and INDUS</li>\n",
    "</p>"
   ]
  },
  {
   "cell_type": "code",
   "execution_count": 57,
   "id": "d30081d9",
   "metadata": {},
   "outputs": [
    {
     "data": {
      "text/plain": [
       "(0.763651446920915, 7.913361061239593e-98)"
      ]
     },
     "execution_count": 57,
     "metadata": {},
     "output_type": "execute_result"
    }
   ],
   "source": [
    "scipy.stats.pearsonr(boston_df['NOX'], boston_df['INDUS'])"
   ]
  },
  {
   "cell_type": "code",
   "execution_count": 58,
   "id": "c97247f1",
   "metadata": {
    "scrolled": true
   },
   "outputs": [
    {
     "name": "stdout",
     "output_type": "stream",
     "text": [
      "There is sufficient evidence to reject the null hypthesis, as the p-value is 0.003567170098137517\n",
      "We can conclude that there is a correlation between Nitric oxide concentrations and the proportion of non-retail buisness acres per town\n"
     ]
    }
   ],
   "source": [
    "print(f\"There is sufficient evidence to reject the null hypthesis, as the p-value is {p_val}\")\n",
    "print(\"We can conclude that there is a correlation between Nitric oxide concentrations and the proportion of non-retail buisness acres per town\")"
   ]
  },
  {
   "cell_type": "markdown",
   "id": "5dbe5c09",
   "metadata": {},
   "source": [
    "### What is the impact of an additional weighted distance to the five Boston employment centres on the median value of owner occupied homes?\n",
    "<p> To answer this question, I performed a regression analysis with the following hypotheses:\n",
    "<li>H0: β1  =0 (DIS has no effect on MEDV)</li>\n",
    "<li>Ha: β1  is not equal to 0 (DIS has an effect on MEDV)</li>\n",
    "</p>"
   ]
  },
  {
   "cell_type": "code",
   "execution_count": 46,
   "id": "7758e26d",
   "metadata": {},
   "outputs": [
    {
     "name": "stderr",
     "output_type": "stream",
     "text": [
      "/opt/anaconda3/lib/python3.9/site-packages/statsmodels/tsa/tsatools.py:142: FutureWarning: In a future version of pandas all arguments of concat except for the argument 'objs' will be keyword-only\n",
      "  x = pd.concat(x[::order], 1)\n"
     ]
    },
    {
     "data": {
      "text/html": [
       "<table class=\"simpletable\">\n",
       "<caption>OLS Regression Results</caption>\n",
       "<tr>\n",
       "  <th>Dep. Variable:</th>          <td>MEDV</td>       <th>  R-squared:         </th> <td>   0.062</td>\n",
       "</tr>\n",
       "<tr>\n",
       "  <th>Model:</th>                   <td>OLS</td>       <th>  Adj. R-squared:    </th> <td>   0.061</td>\n",
       "</tr>\n",
       "<tr>\n",
       "  <th>Method:</th>             <td>Least Squares</td>  <th>  F-statistic:       </th> <td>   33.58</td>\n",
       "</tr>\n",
       "<tr>\n",
       "  <th>Date:</th>             <td>Mon, 04 Apr 2022</td> <th>  Prob (F-statistic):</th> <td>1.21e-08</td>\n",
       "</tr>\n",
       "<tr>\n",
       "  <th>Time:</th>                 <td>08:02:01</td>     <th>  Log-Likelihood:    </th> <td> -1823.9</td>\n",
       "</tr>\n",
       "<tr>\n",
       "  <th>No. Observations:</th>      <td>   506</td>      <th>  AIC:               </th> <td>   3652.</td>\n",
       "</tr>\n",
       "<tr>\n",
       "  <th>Df Residuals:</th>          <td>   504</td>      <th>  BIC:               </th> <td>   3660.</td>\n",
       "</tr>\n",
       "<tr>\n",
       "  <th>Df Model:</th>              <td>     1</td>      <th>                     </th>     <td> </td>   \n",
       "</tr>\n",
       "<tr>\n",
       "  <th>Covariance Type:</th>      <td>nonrobust</td>    <th>                     </th>     <td> </td>   \n",
       "</tr>\n",
       "</table>\n",
       "<table class=\"simpletable\">\n",
       "<tr>\n",
       "    <td></td>       <th>coef</th>     <th>std err</th>      <th>t</th>      <th>P>|t|</th>  <th>[0.025</th>    <th>0.975]</th>  \n",
       "</tr>\n",
       "<tr>\n",
       "  <th>const</th> <td>   18.3901</td> <td>    0.817</td> <td>   22.499</td> <td> 0.000</td> <td>   16.784</td> <td>   19.996</td>\n",
       "</tr>\n",
       "<tr>\n",
       "  <th>DIS</th>   <td>    1.0916</td> <td>    0.188</td> <td>    5.795</td> <td> 0.000</td> <td>    0.722</td> <td>    1.462</td>\n",
       "</tr>\n",
       "</table>\n",
       "<table class=\"simpletable\">\n",
       "<tr>\n",
       "  <th>Omnibus:</th>       <td>139.779</td> <th>  Durbin-Watson:     </th> <td>   0.570</td>\n",
       "</tr>\n",
       "<tr>\n",
       "  <th>Prob(Omnibus):</th> <td> 0.000</td>  <th>  Jarque-Bera (JB):  </th> <td> 305.104</td>\n",
       "</tr>\n",
       "<tr>\n",
       "  <th>Skew:</th>          <td> 1.466</td>  <th>  Prob(JB):          </th> <td>5.59e-67</td>\n",
       "</tr>\n",
       "<tr>\n",
       "  <th>Kurtosis:</th>      <td> 5.424</td>  <th>  Cond. No.          </th> <td>    9.32</td>\n",
       "</tr>\n",
       "</table><br/><br/>Notes:<br/>[1] Standard Errors assume that the covariance matrix of the errors is correctly specified."
      ],
      "text/plain": [
       "<class 'statsmodels.iolib.summary.Summary'>\n",
       "\"\"\"\n",
       "                            OLS Regression Results                            \n",
       "==============================================================================\n",
       "Dep. Variable:                   MEDV   R-squared:                       0.062\n",
       "Model:                            OLS   Adj. R-squared:                  0.061\n",
       "Method:                 Least Squares   F-statistic:                     33.58\n",
       "Date:                Mon, 04 Apr 2022   Prob (F-statistic):           1.21e-08\n",
       "Time:                        08:02:01   Log-Likelihood:                -1823.9\n",
       "No. Observations:                 506   AIC:                             3652.\n",
       "Df Residuals:                     504   BIC:                             3660.\n",
       "Df Model:                           1                                         \n",
       "Covariance Type:            nonrobust                                         \n",
       "==============================================================================\n",
       "                 coef    std err          t      P>|t|      [0.025      0.975]\n",
       "------------------------------------------------------------------------------\n",
       "const         18.3901      0.817     22.499      0.000      16.784      19.996\n",
       "DIS            1.0916      0.188      5.795      0.000       0.722       1.462\n",
       "==============================================================================\n",
       "Omnibus:                      139.779   Durbin-Watson:                   0.570\n",
       "Prob(Omnibus):                  0.000   Jarque-Bera (JB):              305.104\n",
       "Skew:                           1.466   Prob(JB):                     5.59e-67\n",
       "Kurtosis:                       5.424   Cond. No.                         9.32\n",
       "==============================================================================\n",
       "\n",
       "Notes:\n",
       "[1] Standard Errors assume that the covariance matrix of the errors is correctly specified.\n",
       "\"\"\""
      ]
     },
     "execution_count": 46,
     "metadata": {},
     "output_type": "execute_result"
    }
   ],
   "source": [
    "## X is the input variables (or independent variables)\n",
    "X=boston_df['DIS']\n",
    "## y is the target/dependent variable\n",
    "y=boston_df['MEDV']\n",
    "\n",
    "X=sm.add_constant(X)\n",
    "\n",
    "model=sm.OLS(y,X).fit()\n",
    "predictions = model.predict(X)\n",
    "model.summary()"
   ]
  },
  {
   "cell_type": "markdown",
   "id": "fc000cc4",
   "metadata": {},
   "source": [
    "<p> P-value is less than 0.05 so we reject the H0, DIS has an effect on MEDV </p>"
   ]
  },
  {
   "cell_type": "code",
   "execution_count": 59,
   "id": "62964003",
   "metadata": {},
   "outputs": [
    {
     "name": "stdout",
     "output_type": "stream",
     "text": [
      "Additional weighted distance will increase the median value of owner occupied homes by 1.0916\n",
      "In other words, the median value of owner occupied homes will increase by $1091.60\n"
     ]
    }
   ],
   "source": [
    "print(\"Additional weighted distance will increase the median value of owner occupied homes by 1.0916\")\n",
    "print(\"In other words, the median value of owner occupied homes will increase by $1091.60\")"
   ]
  }
 ],
 "metadata": {
  "kernelspec": {
   "display_name": "Python 3 (ipykernel)",
   "language": "python",
   "name": "python3"
  },
  "language_info": {
   "codemirror_mode": {
    "name": "ipython",
    "version": 3
   },
   "file_extension": ".py",
   "mimetype": "text/x-python",
   "name": "python",
   "nbconvert_exporter": "python",
   "pygments_lexer": "ipython3",
   "version": "3.9.7"
  }
 },
 "nbformat": 4,
 "nbformat_minor": 5
}
